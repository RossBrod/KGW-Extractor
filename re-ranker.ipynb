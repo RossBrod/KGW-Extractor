{
 "cells": [
  {
   "cell_type": "code",
   "execution_count": 7,
   "id": "4cd2a14c",
   "metadata": {},
   "outputs": [
    {
     "ename": "ModuleNotFoundError",
     "evalue": "No module named 'psycopg2'",
     "output_type": "error",
     "traceback": [
      "\u001b[31m---------------------------------------------------------------------------\u001b[39m",
      "\u001b[31mModuleNotFoundError\u001b[39m                       Traceback (most recent call last)",
      "\u001b[36mCell\u001b[39m\u001b[36m \u001b[39m\u001b[32mIn[7]\u001b[39m\u001b[32m, line 2\u001b[39m\n\u001b[32m      1\u001b[39m \u001b[38;5;28;01mimport\u001b[39;00m\u001b[38;5;250m \u001b[39m\u001b[34;01mos\u001b[39;00m\n\u001b[32m----> \u001b[39m\u001b[32m2\u001b[39m \u001b[38;5;28;01mimport\u001b[39;00m\u001b[38;5;250m \u001b[39m\u001b[34;01mpsycopg2\u001b[39;00m\n\u001b[32m      3\u001b[39m \u001b[38;5;28;01mfrom\u001b[39;00m\u001b[38;5;250m \u001b[39m\u001b[34;01mpsycopg2\u001b[39;00m\u001b[34;01m.\u001b[39;00m\u001b[34;01mextras\u001b[39;00m\u001b[38;5;250m \u001b[39m\u001b[38;5;28;01mimport\u001b[39;00m DictCursor\n\u001b[32m      4\u001b[39m \u001b[38;5;28;01mfrom\u001b[39;00m\u001b[38;5;250m \u001b[39m\u001b[34;01mopenai\u001b[39;00m\u001b[38;5;250m \u001b[39m\u001b[38;5;28;01mimport\u001b[39;00m OpenAI\n",
      "\u001b[31mModuleNotFoundError\u001b[39m: No module named 'psycopg2'"
     ]
    }
   ],
   "source": [
    "import os\n",
    "import psycopg2\n",
    "from psycopg2.extras import DictCursor\n",
    "from openai import OpenAI\n",
    "import anthropic  # Added import for Anthropic API\n",
    "from datetime import datetime\n",
    "\n",
    "import requests\n",
    "\n",
    "DEEPSEEK_API_KEY =  os.environ.get(\"DEEPSEEK_API_KEY\", \"DEEPSEEK-KG_Extractor\") "
   ]
  },
  {
   "cell_type": "code",
   "execution_count": null,
   "id": "75d19c01",
   "metadata": {},
   "outputs": [],
   "source": [
    "\n",
    "\n",
    "api_url = \"https://api.deepseek.com/v1/rerank\"\n",
    "headers = {\"Authorization\": \"Bearer YOUR_API_KEY\"}\n",
    "data = {\n",
    "    \"query\": \"What is neural search?\",\n",
    "    \"documents\": [\n",
    "        \"Neural search uses deep learning to improve relevance...\",\n",
    "        \"Traditional keyword search relies on exact matches...\",\n",
    "        \"Vector databases enable semantic search...\",\n",
    "    ],\n",
    "    \"top_k\": 3  # Return top 3 re-ranked docs\n",
    "}\n",
    "\n",
    "response = requests.post(api_url, json=data, headers=headers)\n",
    "print(response.json())"
   ]
  },
  {
   "cell_type": "code",
   "execution_count": null,
   "id": "5ed2200a",
   "metadata": {},
   "outputs": [],
   "source": []
  }
 ],
 "metadata": {
  "kernelspec": {
   "display_name": "Python 3",
   "language": "python",
   "name": "python3"
  },
  "language_info": {
   "codemirror_mode": {
    "name": "ipython",
    "version": 3
   },
   "file_extension": ".py",
   "mimetype": "text/x-python",
   "name": "python",
   "nbconvert_exporter": "python",
   "pygments_lexer": "ipython3",
   "version": "3.12.6"
  }
 },
 "nbformat": 4,
 "nbformat_minor": 5
}
